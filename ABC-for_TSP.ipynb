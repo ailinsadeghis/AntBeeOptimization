{
 "cells": [
  {
   "cell_type": "code",
   "execution_count": 102,
   "id": "c1076b06",
   "metadata": {},
   "outputs": [],
   "source": [
    "import numpy as np\n",
    "import random\n",
    "import pandas as pd\n",
    "import math"
   ]
  },
  {
   "cell_type": "code",
   "execution_count": 103,
   "id": "136b4c96",
   "metadata": {},
   "outputs": [],
   "source": [
    "class Tour:\n",
    "    def __init__(self, cities):\n",
    "        self.N = len(cities)\n",
    "        self.cities = cities\n",
    "        self.ids = list(range(self.N))\n",
    "        random.shuffle(self.ids)\n",
    "        self.len = -1\n",
    "        \n",
    "    def length(self):\n",
    "        if self.len < 0:\n",
    "            self.len = sum([self.cities[self.ids[i-1]].distance(self.cities[self.ids[i]])\n",
    "                            for i in range(self.N)])        \n",
    "            \n",
    "        return self.len\n",
    "    \n",
    "    \n",
    "\n",
    "\n",
    "    def distance_matrix(self):\n",
    "        \n",
    "        matrix = [[0]*self.N for _ in range(self.N)]\n",
    "        for i in range(self.N):\n",
    "            for j in range(i + 1, self.N):\n",
    "                dist = self.cities[i].distance(self.cities[j])\n",
    "                matrix[i][j] = dist\n",
    "                matrix[j][i] = dist\n",
    "        return matrix\n",
    "    \n",
    "    \n",
    "class Point2D:\n",
    "    \n",
    "    def __init__(self, x=None, y=None, width=999, height=666):\n",
    "        if x is None:\n",
    "            self.x = random.randint(1, width)\n",
    "            self.y = random.randint(1, height)\n",
    "        else:\n",
    "            self.x, self.y = x, y\n",
    "            \n",
    "    def distance(self, other, x_scale=94.05163, y_scale=110.89431):\n",
    "        dx = (self.x - other.x) * x_scale\n",
    "        dy = (self.y - other.y) * y_scale    \n",
    "        return math.sqrt(dx ** 2 + dy ** 2)\n",
    "    \n",
    "    def __str__(self):\n",
    "        return \"({:.2f}, {:.2f})\".format(self.x, self.y)\n",
    "    \n",
    "    def __repr__(self):\n",
    "        return str(self)\n",
    "\n",
    "\n"
   ]
  },
  {
   "cell_type": "code",
   "execution_count": 104,
   "id": "55c734f0",
   "metadata": {},
   "outputs": [],
   "source": [
    "def parse_latlng(fname):\n",
    "    data = pd.read_csv(fname)\n",
    "    lat, lng = data['lat'].values, data['lng'].values\n",
    "    return list([Point2D(x, y) for x, y in zip(lng, lat)])\n",
    "\n"
   ]
  },
  {
   "cell_type": "code",
   "execution_count": 105,
   "id": "a70bdee1",
   "metadata": {},
   "outputs": [],
   "source": [
    "filepath = './data/ir.csv'\n",
    "ir = parse_latlng(filepath)"
   ]
  },
  {
   "cell_type": "code",
   "execution_count": 106,
   "id": "220ada2b",
   "metadata": {},
   "outputs": [],
   "source": [
    "tour = Tour(ir[:20])"
   ]
  },
  {
   "cell_type": "code",
   "execution_count": 107,
   "id": "e6bd1b3b",
   "metadata": {},
   "outputs": [],
   "source": [
    "distances = []"
   ]
  },
  {
   "cell_type": "code",
   "execution_count": 108,
   "id": "a5b3c537",
   "metadata": {},
   "outputs": [],
   "source": [
    "import numpy as np\n",
    "import random\n",
    "\n",
    "# Calculate the total distance of a given route\n",
    "def calculate_distance(route, distance_matrix):\n",
    "    return sum(distance_matrix[route[i], route[i + 1]] for i in range(len(route) - 1)) + distance_matrix[route[-1], route[0]]\n",
    "\n",
    "\n",
    "# Generate a random route by shuffling city indices\n",
    "def generate_random_route(num_cities):\n",
    "    route = list(range(num_cities))\n",
    "    random.shuffle(route)\n",
    "    return route\n",
    "\n",
    "# Swap two cities in the route to create a new solution\n",
    "def swap_cities(route):\n",
    "    i, j = random.sample(range(len(route)), 2)\n",
    "    route[i], route[j] = route[j], route[i]\n",
    "    return route\n",
    "\n",
    "# start algo \n",
    "\n",
    "\n",
    "\n",
    "def abc_algorithm(distance_matrix, num_bees=50, max_iter=500, limit=50):\n",
    "    num_cities = len(distance_matrix)\n",
    "    \n",
    "    # Initialize population with random routes and calculate their fitness (distances)\n",
    "    population = [generate_random_route(num_cities) for _ in range(num_bees)]\n",
    "    fitness = [calculate_distance(route, distance_matrix) for route in population]\n",
    "    best_route = population[np.argmin(fitness)]\n",
    "    best_fitness = min(fitness)\n",
    "    trial = [0] * num_bees  # Track number of trials without improvement for each bee\n",
    "    \n",
    "    for iteration in range(max_iter):\n",
    "        \n",
    "        # Employed\n",
    "        # Employed bees phase: explore by swapping cities\n",
    "        for i in range(num_bees):\n",
    "            new_route = swap_cities(population[i][:])\n",
    "            new_fitness = calculate_distance(new_route, distance_matrix)\n",
    "            if new_fitness < fitness[i]: # If new solution is better, adopt it\n",
    "                population[i] = new_route\n",
    "                fitness[i] = new_fitness\n",
    "                trial[i] = 0 # Reset trial if new solution is better \n",
    "            else:\n",
    "                trial[i] += 1 # Increment trial counter if no improvement\n",
    "        \n",
    "        # Calculate probability for onlooker bees based on fitness\n",
    "        fitness_sum = sum(1.0/f for f in fitness)\n",
    "        probabilities = [(1.0/f) / fitness_sum for f in fitness]\n",
    "        \n",
    "        \n",
    "        # Onlooker\n",
    "        # Onlooker bees phase: choose routes to improve based on probabilities\n",
    "        for i in range(num_bees):\n",
    "            if random.random() < probabilities[i]:\n",
    "                new_route = swap_cities(population[i][:])\n",
    "                new_fitness = calculate_distance(new_route, distance_matrix)\n",
    "                if new_fitness < fitness[i]:\n",
    "                    population[i] = new_route\n",
    "                    fitness[i] = new_fitness\n",
    "                    trial[i] = 0\n",
    "                else:\n",
    "                    trial[i] += 1\n",
    "        \n",
    "        # Update the best solution found at this moment\n",
    "        current_best_fitness = min(fitness)\n",
    "        \n",
    "        \n",
    "        if current_best_fitness < best_fitness:\n",
    "            best_fitness = current_best_fitness\n",
    "            best_route = population[np.argmin(fitness)]\n",
    "            distances.append(best_fitness)\n",
    "\n",
    "\n",
    "            \n",
    "        #Scout\n",
    "        # Scout bees phase: replace poor solutions that haven't improved for a while\n",
    "        for i in range(num_bees):\n",
    "            if trial[i] > limit:\n",
    "                population[i] = generate_random_route(num_cities)\n",
    "                fitness[i] = calculate_distance(population[i], distance_matrix)\n",
    "                trial[i] = 0\n",
    "    \n",
    "    return best_route, best_fitness\n",
    "\n",
    "\n",
    "\n",
    "\n",
    "\n",
    "\n"
   ]
  },
  {
   "cell_type": "code",
   "execution_count": 109,
   "id": "0db46cb8",
   "metadata": {},
   "outputs": [
    {
     "name": "stdout",
     "output_type": "stream",
     "text": [
      "Best route: [19, 4, 12, 8, 13, 3, 7, 14, 6, 18, 2, 15, 5, 17, 9, 11, 1, 0, 16, 10]\n",
      "Best distance: 5825.945074609041\n"
     ]
    }
   ],
   "source": [
    "distance_matrix = np.array(tour.distance_matrix())\n",
    "\n",
    "best_route, best_distance = abc_algorithm(distance_matrix)\n",
    "print(\"Best route:\", best_route)\n",
    "print(\"Best distance:\", best_distance)"
   ]
  },
  {
   "cell_type": "code",
   "execution_count": 110,
   "id": "4764aeb2",
   "metadata": {},
   "outputs": [
    {
     "data": {
      "image/png": "[encoded data removed]",
      "text/plain": [
       "<Figure size 640x480 with 1 Axes>"
      ]
     },
     "metadata": {},
     "output_type": "display_data"
    }
   ],
   "source": [
    "import matplotlib.pyplot as plt\n",
    "\n",
    "\n",
    "\n",
    "\n",
    "iterations = list(range(1, len(distances) + 1))\n",
    "\n",
    "plt.plot(iterations, distances, marker='o', linestyle='-', color='b')\n",
    "\n",
    "plt.xlabel('Iteration')\n",
    "plt.ylabel('Distance')\n",
    "plt.title('Distance Decrease Over Iterations')\n",
    "\n",
    "\n",
    "plt.axhline(y=min(distances), color='r', linestyle='--', label=f'Best Distance: {min(distances):.2f}')\n",
    "\n",
    "plt.legend()\n",
    "\n",
    "plt.show()\n"
   ]
  },
  {
   "cell_type": "code",
   "execution_count": null,
   "id": "b94c551c",
   "metadata": {},
   "outputs": [],
   "source": []
  },
  {
   "cell_type": "code",
   "execution_count": null,
   "id": "09842cc7",
   "metadata": {},
   "outputs": [],
   "source": []
  },
  {
   "cell_type": "code",
   "execution_count": null,
   "id": "d6fe0eb0",
   "metadata": {},
   "outputs": [],
   "source": []
  }
 ],
 "metadata": {
  "kernelspec": {
   "display_name": "Python 3 (ipykernel)",
   "language": "python",
   "name": "python3"
  },
  "language_info": {
   "codemirror_mode": {
    "name": "ipython",
    "version": 3
   },
   "file_extension": ".py",
   "mimetype": "text/x-python",
   "name": "python",
   "nbconvert_exporter": "python",
   "pygments_lexer": "ipython3",
   "version": "3.11.5"
  }
 },
 "nbformat": 4,
 "nbformat_minor": 5
}
