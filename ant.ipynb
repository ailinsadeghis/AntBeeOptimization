{
 "cells": [
  {
   "cell_type": "markdown",
   "id": "d3e886b0",
   "metadata": {},
   "source": [
    "# Pheromone Calculation and Update\n",
    "\n",
    "## Initialization : \n",
    "\n",
    "all paths between cities have the same amount of pheromone:\n",
    "\n",
    "` pheromones = np.ones((num_cities, num_cities))`\n",
    "\n",
    "\n",
    "## Pheromone Influence During Route Construction\n",
    "\n",
    "As each ant builds its route, the chance of choosing the next city depends on the amount of pheromone on the path. The higher the pheromone level, the more likely the ant is to pick that path. This influence is adjusted by the parameter alpha .\n",
    "`\n",
    "pheromone_level = pheromones[current_city, next_city] ** alpha\n",
    "visibility = (1.0 / distance_matrix[current_city, next_city]) ** beta\n",
    "probability = pheromone_level * visibility\n",
    "`\n",
    "\n",
    "## Pheromone Evaporation: \n",
    "\n",
    "After all ants have constructed their routes, the pheromone levels on all paths are reduced by a factor of (1 - evaporation_rate): \n",
    "\n",
    "\n",
    "`pheromones *= (1 - evaporation_rate)`\n",
    "\n",
    "## Pheromone Deposition:\n",
    "\n",
    "Once the ants have completed their routes, the algorithm deposits additional pheromone on the paths they used. The amount of pheromone deposited is inversely proportional to the route's length, meaning shorter (better) routes receive more pheromone:\n",
    "\n",
    "`\n",
    "pheromones[route[i], route[i + 1]] += pheromone_deposit / route_distance\n",
    "pheromones[route[i + 1], route[i]] += pheromone_deposit / route_distance\n",
    "`\n",
    "\n",
    "\n"
   ]
  },
  {
   "cell_type": "code",
   "execution_count": 16,
   "id": "0d6ca800",
   "metadata": {},
   "outputs": [],
   "source": [
    "import numpy as np\n",
    "import random\n",
    "import pandas as pd\n",
    "import math"
   ]
  },
  {
   "cell_type": "code",
   "execution_count": 17,
   "id": "b6e7b28e",
   "metadata": {},
   "outputs": [],
   "source": [
    "class Tour:\n",
    "    def __init__(self, cities):\n",
    "        self.N = len(cities)\n",
    "        self.cities = cities\n",
    "        self.ids = list(range(self.N))\n",
    "        random.shuffle(self.ids)\n",
    "        self.len = -1\n",
    "        \n",
    "    def length(self):\n",
    "        if self.len < 0:\n",
    "            self.len = sum([self.cities[self.ids[i-1]].distance(self.cities[self.ids[i]])\n",
    "                            for i in range(self.N)])        \n",
    "            \n",
    "        return self.len\n",
    "    \n",
    "    \n",
    "\n",
    "\n",
    "    def distance_matrix(self):\n",
    "        \n",
    "        matrix = [[0]*self.N for _ in range(self.N)]\n",
    "        for i in range(self.N):\n",
    "            for j in range(i + 1, self.N):\n",
    "                dist = self.cities[i].distance(self.cities[j])\n",
    "                matrix[i][j] = dist\n",
    "                matrix[j][i] = dist\n",
    "        return matrix\n",
    "    \n",
    "    \n",
    "class Point2D:\n",
    "    \n",
    "    def __init__(self, x=None, y=None, width=999, height=666):\n",
    "        if x is None:\n",
    "            self.x = random.randint(1, width)\n",
    "            self.y = random.randint(1, height)\n",
    "        else:\n",
    "            self.x, self.y = x, y\n",
    "            \n",
    "    def distance(self, other, x_scale=94.05163, y_scale=110.89431):\n",
    "        dx = (self.x - other.x) * x_scale\n",
    "        dy = (self.y - other.y) * y_scale    \n",
    "        return math.sqrt(dx ** 2 + dy ** 2)\n",
    "    \n",
    "    def __str__(self):\n",
    "        return \"({:.2f}, {:.2f})\".format(self.x, self.y)\n",
    "    \n",
    "    def __repr__(self):\n",
    "        return str(self)\n",
    "\n",
    "\n"
   ]
  },
  {
   "cell_type": "code",
   "execution_count": 18,
   "id": "308b9e30",
   "metadata": {},
   "outputs": [],
   "source": [
    "def parse_latlng(fname):\n",
    "    data = pd.read_csv(fname)\n",
    "    lat, lng = data['lat'].values, data['lng'].values\n",
    "    return list([Point2D(x, y) for x, y in zip(lng, lat)])\n",
    "\n"
   ]
  },
  {
   "cell_type": "code",
   "execution_count": 19,
   "id": "a7a3b13a",
   "metadata": {},
   "outputs": [],
   "source": [
    "filepath = './data/ir.csv'\n",
    "ir = parse_latlng(filepath)"
   ]
  },
  {
   "cell_type": "code",
   "execution_count": 20,
   "id": "f3e8c435",
   "metadata": {},
   "outputs": [],
   "source": [
    "tour = Tour(ir[:20])"
   ]
  },
  {
   "cell_type": "code",
   "execution_count": 21,
   "id": "bddcfd6c",
   "metadata": {},
   "outputs": [],
   "source": [
    "distances = []"
   ]
  },
  {
   "cell_type": "code",
   "execution_count": 24,
   "id": "1e639413",
   "metadata": {},
   "outputs": [],
   "source": [
    "import numpy as np\n",
    "import random\n",
    "\n",
    "\n",
    "# Calculate the total distance of a given route\n",
    "\n",
    "def calculate_distance(route, distance_matrix):\n",
    "    return sum(distance_matrix[route[i], route[i + 1]] for i in range(len(route) - 1)) + distance_matrix[route[-1], route[0]]\n",
    "\n",
    "\n",
    "\n",
    "# Generate a random route (initial solution) \n",
    "def generate_random_route(num_cities):\n",
    "    route = list(range(num_cities))\n",
    "    random.shuffle(route)\n",
    "    return route\n",
    "\n",
    "\n",
    "\n",
    "\n",
    "\n",
    "# start algorithm\n",
    "\n",
    "\n",
    "def ant_colony_algorithm(distance_matrix, num_ants=50, num_iterations=100, alpha=1, beta=2, evaporation_rate=0.5, pheromone_deposit=1):\n",
    "    num_cities = len(distance_matrix)\n",
    "    \n",
    "    # Initialize pheromone levels (equal for all paths)\n",
    "    \n",
    "    pheromones = np.ones((num_cities, num_cities))\n",
    "    \n",
    "    # to store the best found route and its distance\n",
    "    best_route = None\n",
    "    best_distance = float('inf')\n",
    "    \n",
    "    #For loop for number of iterations\n",
    "    for iteration in range(num_iterations):\n",
    "        all_routes = []\n",
    "        all_distances = []\n",
    "        \n",
    "        for ant in range(num_ants):\n",
    "            # Start from a random city\n",
    "            route = [random.choice(range(num_cities))]\n",
    "            while len(route) < num_cities:\n",
    "                current_city = route[-1]\n",
    "                probabilities = []\n",
    "                \n",
    "                # Calculate probabilities for moving to the next city\n",
    "                for next_city in range(num_cities):\n",
    "                    if next_city not in route:\n",
    "                        # Calculate pheromone influence and visibility (heuristic information)\n",
    "                        pheromone_level = pheromones[current_city, next_city] ** alpha\n",
    "                        visibility = (1.0 / distance_matrix[current_city, next_city]) ** beta\n",
    "                        probabilities.append(pheromone_level * visibility)\n",
    "                    else:\n",
    "                        probabilities.append(0)\n",
    "                # Normalize the probabilities\n",
    "                probabilities = np.array(probabilities)\n",
    "                probabilities /= probabilities.sum()\n",
    "                \n",
    "                # Choose the next city based on the probabilities\n",
    "                next_city = np.random.choice(range(num_cities), p=probabilities)\n",
    "                route.append(next_city)\n",
    "                \n",
    "            # Calculate the total distance of the route\n",
    "            route_distance = calculate_distance(route, distance_matrix)\n",
    "            all_routes.append(route)\n",
    "            all_distances.append(route_distance)\n",
    "            \n",
    "            # Update the best found route if this one is better\n",
    "            if route_distance < best_distance:\n",
    "                best_route = route\n",
    "                best_distance = route_distance\n",
    "                distances.append(best_distance)\n",
    "        \n",
    "        # Evaporate some pheromone from all paths\n",
    "        pheromones *= (1 - evaporation_rate)\n",
    "        \n",
    "        # Deposit pheromone on the paths based on the quality of the routes\n",
    "        for route, route_distance in zip(all_routes, all_distances):\n",
    "            for i in range(len(route) - 1):\n",
    "                pheromones[route[i], route[i + 1]] += pheromone_deposit / route_distance\n",
    "                pheromones[route[i + 1], route[i]] += pheromone_deposit / route_distance\n",
    "    \n",
    "    return best_route, best_distance\n",
    "\n",
    "\n",
    "\n"
   ]
  },
  {
   "cell_type": "code",
   "execution_count": 25,
   "id": "bf24c9df",
   "metadata": {},
   "outputs": [
    {
     "name": "stdout",
     "output_type": "stream",
     "text": [
      "Best route: [11, 17, 5, 6, 14, 13, 8, 12, 4, 19, 10, 16, 3, 0, 7, 18, 2, 15, 1, 9]\n",
      "Best distance: 5419.917779513105\n"
     ]
    }
   ],
   "source": [
    "distance_matrix = np.array(tour.distance_matrix())\n",
    "\n",
    "best_route, best_distance = ant_colony_algorithm(distance_matrix)\n",
    "print(\"Best route:\", best_route)\n",
    "print(\"Best distance:\", best_distance)\n"
   ]
  },
  {
   "cell_type": "code",
   "execution_count": 26,
   "id": "63779fb0",
   "metadata": {},
   "outputs": [
    {
     "data": {
      "image/png": "[encoded data removed]",
      "text/plain": [
       "<Figure size 640x480 with 1 Axes>"
      ]
     },
     "metadata": {},
     "output_type": "display_data"
    }
   ],
   "source": [
    "import matplotlib.pyplot as plt\n",
    "\n",
    "\n",
    "\n",
    "\n",
    "iterations = list(range(1, len(distances) + 1))\n",
    "\n",
    "plt.plot(iterations, distances, marker='o', linestyle='-', color='b')\n",
    "\n",
    "plt.xlabel('Iteration')\n",
    "plt.ylabel('Distance')\n",
    "plt.title('Distance Decrease Over Iterations')\n",
    "\n",
    "\n",
    "plt.axhline(y=min(distances), color='r', linestyle='--', label=f'Best Distance: {min(distances):.2f}')\n",
    "\n",
    "plt.legend()\n",
    "\n",
    "plt.show()\n"
   ]
  },
  {
   "cell_type": "code",
   "execution_count": null,
   "id": "a0cfa065",
   "metadata": {},
   "outputs": [],
   "source": []
  },
  {
   "cell_type": "code",
   "execution_count": null,
   "id": "285a7121",
   "metadata": {},
   "outputs": [],
   "source": []
  }
 ],
 "metadata": {
  "kernelspec": {
   "display_name": "Python 3 (ipykernel)",
   "language": "python",
   "name": "python3"
  },
  "language_info": {
   "codemirror_mode": {
    "name": "ipython",
    "version": 3
   },
   "file_extension": ".py",
   "mimetype": "text/x-python",
   "name": "python",
   "nbconvert_exporter": "python",
   "pygments_lexer": "ipython3",
   "version": "3.11.5"
  }
 },
 "nbformat": 4,
 "nbformat_minor": 5
}
